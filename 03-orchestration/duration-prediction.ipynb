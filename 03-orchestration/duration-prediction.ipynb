{
 "cells": [
  {
   "cell_type": "code",
   "execution_count": 4,
   "id": "b2bd82d7",
   "metadata": {},
   "outputs": [
    {
     "name": "stdout",
     "output_type": "stream",
     "text": [
      "Python 3.10.16\n"
     ]
    }
   ],
   "source": [
    "!python -V"
   ]
  },
  {
   "cell_type": "code",
   "execution_count": 5,
   "id": "41062d8a",
   "metadata": {},
   "outputs": [],
   "source": [
    "import pandas as pd\n",
    "import mlflow"
   ]
  },
  {
   "cell_type": "code",
   "execution_count": 6,
   "id": "d7185f37",
   "metadata": {},
   "outputs": [],
   "source": [
    "from sklearn.feature_extraction import DictVectorizer\n",
    "from sklearn.linear_model import LinearRegression"
   ]
  },
  {
   "cell_type": "code",
   "execution_count": 7,
   "id": "f9e6479e",
   "metadata": {},
   "outputs": [],
   "source": [
    "def read_dataframe(filename):\n",
    "    df = pd.read_parquet(filename)\n",
    "\n",
    "    print(f\"Number of records loaded: {len(df)}\")\n",
    "    print(f\"Dataset shape: {df.shape}\")\n",
    "\n",
    "    df['duration'] = df.tpep_dropoff_datetime - df.tpep_pickup_datetime\n",
    "    df.duration = df.duration.apply(lambda td: td.total_seconds() / 60)\n",
    "\n",
    "    df = df[(df.duration >= 1) & (df.duration <= 60)]\n",
    "\n",
    "    categorical = ['PULocationID', 'DOLocationID']\n",
    "    df[categorical] = df[categorical].astype(str)\n",
    "\n",
    "    df['PU_DO'] = df['PULocationID'] + '_' + df['DOLocationID']\n",
    "\n",
    "    # Print the result for Question 4\n",
    "    print(f\"After data preparation - Number of records: {len(df)}\")\n",
    "    print(f\"After data preparation - Dataset shape: {df.shape}\")\n",
    "\n",
    "    return df"
   ]
  },
  {
   "cell_type": "code",
   "execution_count": 8,
   "id": "687756c4",
   "metadata": {},
   "outputs": [],
   "source": [
    "def train_model(df_train):\n",
    "    categorical = ['PULocationID', 'DOLocationID']\n",
    "    numerical = []\n",
    "\n",
    "    dicts = df_train[categorical + numerical].to_dict(orient='records')\n",
    "\n",
    "    dv = DictVectorizer()\n",
    "    X_train = dv.fit_transform(dicts)\n",
    "\n",
    "    target = 'duration'\n",
    "    y_train = df_train[target].values\n",
    "\n",
    "    lr = LinearRegression()\n",
    "    lr.fit(X_train,y_train)\n",
    "\n",
    "    print(f\"Model intercept: {lr.intercept_:.2f}\")\n",
    "\n",
    "    return dv, lr"
   ]
  },
  {
   "cell_type": "code",
   "execution_count": 9,
   "id": "3d38eed9",
   "metadata": {},
   "outputs": [],
   "source": [
    "def log_model_to_mlflow(dv, lr):\n",
    "\n",
    "    mlflow.set_tracking_uri(\"file:./mlruns\")\n",
    "\n",
    "    with mlflow.start_run():\n",
    "        mlflow.sklearn.log_model(\n",
    "            sk_model=lr,\n",
    "            artifact_path=\"model\",\n",
    "            registered_model_name=\"taxi-duration-model\"\n",
    "        )\n",
    "        \n",
    "        mlflow.log_param(\"model_type\", \"LinearRegression\")\n",
    "        mlflow.log_param(\"features\", \"PULocationID, DOLocationID\")\n",
    "        mlflow.log_metric(\"intercept\", lr.intercept_)\n",
    "\n",
    "        run_info = mlflow.active_run().info\n",
    "        run_id = run_info.run_id\n",
    "\n",
    "    print(f\"Model logged with run_id: {run_id}\")\n",
    "\n",
    "    return run_id"
   ]
  },
  {
   "cell_type": "code",
   "execution_count": 10,
   "id": "78b70d37",
   "metadata": {},
   "outputs": [
    {
     "name": "stdout",
     "output_type": "stream",
     "text": [
      "Number of records loaded: 3403766\n",
      "Dataset shape: (3403766, 19)\n",
      "After data preparation - Number of records: 3316216\n",
      "After data preparation - Dataset shape: (3316216, 21)\n",
      "Model intercept: 24.77\n"
     ]
    },
    {
     "name": "stderr",
     "output_type": "stream",
     "text": [
      "\u001b[31m2025/06/10 17:54:56 WARNING mlflow.models.model: Model logged without a signature and input example. Please set `input_example` parameter when logging the model to auto infer the model signature.\u001b[0m\n"
     ]
    },
    {
     "name": "stdout",
     "output_type": "stream",
     "text": [
      "Model logged with run_id: 577e793d467b4edd948bb47ad0d25400\n"
     ]
    },
    {
     "name": "stderr",
     "output_type": "stream",
     "text": [
      "Successfully registered model 'taxi-duration-model'.\n",
      "Created version '1' of model 'taxi-duration-model'.\n"
     ]
    }
   ],
   "source": [
    "df = read_dataframe('https://d37ci6vzurychx.cloudfront.net/trip-data/yellow_tripdata_2023-03.parquet')\n",
    "dv, lr = train_model(df)\n",
    "run_id = log_model_to_mlflow(dv, lr)"
   ]
  }
 ],
 "metadata": {
  "kernelspec": {
   "display_name": "Python 3",
   "language": "python",
   "name": "python3"
  },
  "language_info": {
   "codemirror_mode": {
    "name": "ipython",
    "version": 3
   },
   "file_extension": ".py",
   "mimetype": "text/x-python",
   "name": "python",
   "nbconvert_exporter": "python",
   "pygments_lexer": "ipython3",
   "version": "3.10.16"
  }
 },
 "nbformat": 4,
 "nbformat_minor": 5
}
